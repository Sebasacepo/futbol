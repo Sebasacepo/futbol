{
  "nbformat": 4,
  "nbformat_minor": 0,
  "metadata": {
    "colab": {
      "provenance": []
    },
    "kernelspec": {
      "name": "python3",
      "display_name": "Python 3"
    },
    "language_info": {
      "name": "python"
    }
  },
  "cells": [
    {
      "cell_type": "code",
      "execution_count": 5,
      "metadata": {
        "id": "BZnzKLqs72LE"
      },
      "outputs": [],
      "source": [
        "import pandas as pd\n",
        "\n",
        "allTime = pd.read_csv('/content/AllTimeRankingByCountry.csv')\n",
        "playerGoal = pd.read_csv('/content/PlayerGoalDetails.csv')\n",
        "ranking = pd.DataFrame(allTime)\n",
        "goles = pd.DataFrame(playerGoal)\n",
        "\n"
      ]
    },
    {
      "cell_type": "markdown",
      "source": [
        "el head() imprime las primeas 5 filas del df por defecto\n",
        "o head(10) las 10 primeras filas\n",
        "\n",
        "Query es un metodo más corto para buscar datos dentro del df\n",
        "\n",
        "ejemplo.query('ejemplos > 8')\n",
        "ejemplo.query('ejemplos > 8 and porcentaje < 9')"
      ],
      "metadata": {
        "id": "tBLg1OFh9EFb"
      }
    },
    {
      "cell_type": "code",
      "source": [
        "#Total de goles anotados por todos los clubes\n",
        "\n",
        "busqueda=goles[(goles['Player'] == 'Cristiano Ronaldo')]\n",
        "totalGoles = pd.DataFrame(busqueda)\n",
        "suma = totalGoles['Goals'].sum()\n",
        "\n",
        "print(f'Cristiano anotó {suma} goles en total por club')"
      ],
      "metadata": {
        "colab": {
          "base_uri": "https://localhost:8080/"
        },
        "id": "w1gKHcOY8oBb",
        "outputId": "b1a8869a-821c-4f33-d877-a3649535b3de"
      },
      "execution_count": 2,
      "outputs": [
        {
          "output_type": "stream",
          "name": "stdout",
          "text": [
            "Cristiano anotó 140 goles en total por club\n"
          ]
        }
      ]
    },
    {
      "cell_type": "code",
      "source": [
        "golesContra = ranking['Goals Against'].sum()\n",
        "index = ranking.index.stop\n",
        "\n",
        "print(golesContra / index)"
      ],
      "metadata": {
        "id": "IZ7pgXpRAVy2",
        "colab": {
          "base_uri": "https://localhost:8080/"
        },
        "outputId": "1f5e6894-a9d0-4cc7-fe8c-05413832ffcf"
      },
      "execution_count": 32,
      "outputs": [
        {
          "output_type": "stream",
          "name": "stdout",
          "text": [
            "421.5\n"
          ]
        }
      ]
    },
    {
      "cell_type": "code",
      "source": [
        "titulos = ranking['Titles'].idxmax()\n",
        "num = ranking.loc[titulos, 'Titles']\n",
        "pais = ranking.loc[titulos, 'Country']\n",
        "\n",
        "print(f'{pais} : {num}')"
      ],
      "metadata": {
        "colab": {
          "base_uri": "https://localhost:8080/"
        },
        "id": "VXJlJ-FMx5eK",
        "outputId": "6b31cbec-53cb-4e71-d072-3385e0cb5676"
      },
      "execution_count": 79,
      "outputs": [
        {
          "output_type": "stream",
          "name": "stdout",
          "text": [
            "Spain : 19\n"
          ]
        }
      ]
    },
    {
      "cell_type": "markdown",
      "source": [
        "total de media de goles en contra por pais\n",
        "3) Pais con la mayor cantidad de titulos\n",
        "contar el numero difernetes"
      ],
      "metadata": {
        "id": "v6jnSz3fAX7s"
      }
    },
    {
      "cell_type": "code",
      "source": [
        "messi = totalGoles['Club']\n",
        "print(messi)"
      ],
      "metadata": {
        "colab": {
          "base_uri": "https://localhost:8080/"
        },
        "id": "Q9yT6b52D3rX",
        "outputId": "af05182d-a5eb-46ee-cb82-06d4d55cb483"
      },
      "execution_count": 78,
      "outputs": [
        {
          "output_type": "stream",
          "name": "stdout",
          "text": [
            "0          Real Madrid CF\n",
            "1                Juventus\n",
            "2    Manchester United FC\n",
            "Name: Club, dtype: object\n"
          ]
        }
      ]
    }
  ]
}